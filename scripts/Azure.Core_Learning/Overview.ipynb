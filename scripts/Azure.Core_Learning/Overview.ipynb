{
 "cells": [
  {
   "cell_type": "markdown",
   "metadata": {},
   "source": [
    "# Starting a Experiment\n",
    "\n",
    "Connection to the Azure ML Workspace: __poc-smuc-paas-we-ml__\n",
    "For this a interactive authentication is required. For this a sign in will take place over the web browser.\n",
    "If successfull: The return will be __Interactive authentication successfully completed.__\n",
    "\n",
    "Two option to connect to the workspace\n",
    "- use the right configuration\n",
    "- or use the Azure ML extension, to point to the configuration file\n",
    "\n",
    "Two options Workspace.get()\n",
    "or Workspace.from_config()\n",
    "\n",
    "the configuration file get's wrin with \n",
    "ws.write_config(path=\"./file-path\", file_name=\"ws_config.json\")\n",
    "\n",
    "The Kernel and enviorment\n",
    "Keep going.\n",
    "\n",
    "The topic for enviroments are different.\n",
    "\n",
    "Starting you compute instance.\n"
   ]
  },
  {
   "cell_type": "code",
   "execution_count": 1,
   "metadata": {},
   "outputs": [
    {
     "ename": "ModuleNotFoundError",
     "evalue": "No module named 'azureml'",
     "output_type": "error",
     "traceback": [
      "\u001b[1;31m---------------------------------------------------------------------------\u001b[0m",
      "\u001b[1;31mModuleNotFoundError\u001b[0m                       Traceback (most recent call last)",
      "\u001b[1;32m<ipython-input-1-b3add5e2b931>\u001b[0m in \u001b[0;36m<module>\u001b[1;34m\u001b[0m\n\u001b[1;32m----> 1\u001b[1;33m \u001b[1;32mimport\u001b[0m \u001b[0mazureml\u001b[0m\u001b[1;33m.\u001b[0m\u001b[0mcore\u001b[0m\u001b[1;33m\u001b[0m\u001b[1;33m\u001b[0m\u001b[0m\n\u001b[0m\u001b[0;32m      2\u001b[0m \u001b[1;32mfrom\u001b[0m \u001b[0mazureml\u001b[0m\u001b[1;33m.\u001b[0m\u001b[0mcore\u001b[0m \u001b[1;32mimport\u001b[0m \u001b[0mWorkspace\u001b[0m\u001b[1;33m\u001b[0m\u001b[1;33m\u001b[0m\u001b[0m\n",
      "\u001b[1;31mModuleNotFoundError\u001b[0m: No module named 'azureml'"
     ]
    }
   ],
   "source": [
    "import azureml.core \n",
    "from azureml.core import Workspace"
   ]
  },
  {
   "cell_type": "code",
   "execution_count": null,
   "metadata": {},
   "outputs": [],
   "source": [
    "import azureml.core \n",
    "from azureml.core import Workspace\n",
    "ws = Workspace.get(\n",
    "    name='name',\n",
    "    subscription_id='subscription_id',\n",
    "    resource_group='resource_group',\n",
    ")\n",
    "\n"
   ]
  },
  {
   "cell_type": "code",
   "execution_count": null,
   "metadata": {
    "vscode": {
     "languageId": "sql"
    }
   },
   "outputs": [],
   "source": []
  },
  {
   "cell_type": "code",
   "execution_count": 4,
   "metadata": {},
   "outputs": [
    {
     "name": "stdout",
     "output_type": "stream",
     "text": [
      "Ready to use Azure ML 1.51.0 to work with poc-smuc-paas-we-ml\n"
     ]
    }
   ],
   "source": [
    "ws = Workspace.from_config()\n",
    "print('Ready to use Azure ML {} to work with {}'.format(azureml.core.VERSION, ws.name))\n",
    "\n",
    "#"
   ]
  },
  {
   "cell_type": "code",
   "execution_count": 5,
   "metadata": {},
   "outputs": [
    {
     "ename": "UserErrorException",
     "evalue": "UserErrorException:\n\tMessage: Could not write the config file to: /mnt/batch/tasks/shared/LS_root/mounts/clusters/pauljulitz01/code/file-path/.azureml\n[Errno 2] No such file or directory: '/mnt/batch/tasks/shared/LS_root/mounts/clusters/pauljulitz01/code/file-path/.azureml'\n\tInnerException None\n\tErrorResponse \n{\n    \"error\": {\n        \"code\": \"UserError\",\n        \"message\": \"Could not write the config file to: /mnt/batch/tasks/shared/LS_root/mounts/clusters/pauljulitz01/code/file-path/.azureml\\n[Errno 2] No such file or directory: '/mnt/batch/tasks/shared/LS_root/mounts/clusters/pauljulitz01/code/file-path/.azureml'\"\n    }\n}",
     "output_type": "error",
     "traceback": [
      "\u001b[0;31m---------------------------------------------------------------------------\u001b[0m",
      "\u001b[0;31mFileNotFoundError\u001b[0m                         Traceback (most recent call last)",
      "File \u001b[0;32m/anaconda/envs/jupyter_env/lib/python3.8/site-packages/azureml/core/workspace.py:701\u001b[0m, in \u001b[0;36mWorkspace.write_config\u001b[0;34m(self, path, file_name)\u001b[0m\n\u001b[1;32m    700\u001b[0m \u001b[39mtry\u001b[39;00m:\n\u001b[0;32m--> 701\u001b[0m     check_and_create_dir(normalized_config_path)\n\u001b[1;32m    702\u001b[0m \u001b[39mexcept\u001b[39;00m \u001b[39mOSError\u001b[39;00m \u001b[39mas\u001b[39;00m e:\n",
      "File \u001b[0;32m/anaconda/envs/jupyter_env/lib/python3.8/site-packages/azureml/_file_utils/file_utils.py:94\u001b[0m, in \u001b[0;36mcheck_and_create_dir\u001b[0;34m(path, directory_name)\u001b[0m\n\u001b[1;32m     93\u001b[0m normalized_path \u001b[39m=\u001b[39m normalize_path_and_join(path, directory_name)\n\u001b[0;32m---> 94\u001b[0m os\u001b[39m.\u001b[39;49mmkdir(normalized_path)\n",
      "\u001b[0;31mFileNotFoundError\u001b[0m: [Errno 2] No such file or directory: '/mnt/batch/tasks/shared/LS_root/mounts/clusters/pauljulitz01/code/file-path/.azureml'",
      "\nDuring handling of the above exception, another exception occurred:\n",
      "\u001b[0;31mUserErrorException\u001b[0m                        Traceback (most recent call last)",
      "\u001b[1;32mc:\\Users\\PaulJulitz\\iCloudDrive\\TexMaker\\GitHub_Notizen_DSci\\Notizen_DSci\\scripts\\Azure.Core_Learning\\Overview.ipynb Cell 5\u001b[0m line \u001b[0;36m1\n\u001b[0;32m----> <a href='vscode-notebook-cell:/c%3A/Users/PaulJulitz/iCloudDrive/TexMaker/GitHub_Notizen_DSci/Notizen_DSci/scripts/Azure.Core_Learning/Overview.ipynb#W6sZmlsZQ%3D%3D?line=0'>1</a>\u001b[0m ws\u001b[39m.\u001b[39;49mwrite_config(path\u001b[39m=\u001b[39;49m\u001b[39m\"\u001b[39;49m\u001b[39m./file-path\u001b[39;49m\u001b[39m\"\u001b[39;49m, file_name\u001b[39m=\u001b[39;49m\u001b[39m\"\u001b[39;49m\u001b[39mws_config.json\u001b[39;49m\u001b[39m\"\u001b[39;49m)\n",
      "File \u001b[0;32m/anaconda/envs/jupyter_env/lib/python3.8/site-packages/azureml/core/workspace.py:709\u001b[0m, in \u001b[0;36mWorkspace.write_config\u001b[0;34m(self, path, file_name)\u001b[0m\n\u001b[1;32m    704\u001b[0m         \u001b[39mraise\u001b[39;00m UserErrorException(\n\u001b[1;32m    705\u001b[0m             \u001b[39m'\u001b[39m\u001b[39mYou do not have permission to write the config \u001b[39m\u001b[39m'\u001b[39m\n\u001b[1;32m    706\u001b[0m             \u001b[39m'\u001b[39m\u001b[39mfile to: \u001b[39m\u001b[39m{}\u001b[39;00m\u001b[39m\\n\u001b[39;00m\u001b[39mPlease make sure you have write \u001b[39m\u001b[39m'\u001b[39m\n\u001b[1;32m    707\u001b[0m             \u001b[39m'\u001b[39m\u001b[39mpermissions to the path.\u001b[39m\u001b[39m'\u001b[39m\u001b[39m.\u001b[39mformat(normalized_config_path))\n\u001b[1;32m    708\u001b[0m     \u001b[39melse\u001b[39;00m:\n\u001b[0;32m--> 709\u001b[0m         \u001b[39mraise\u001b[39;00m UserErrorException(\n\u001b[1;32m    710\u001b[0m             \u001b[39m'\u001b[39m\u001b[39mCould not write the config file to: \u001b[39m\u001b[39m'\u001b[39m\n\u001b[1;32m    711\u001b[0m             \u001b[39m'\u001b[39m\u001b[39m{}\u001b[39;00m\u001b[39m\\n\u001b[39;00m\u001b[39m{}\u001b[39;00m\u001b[39m'\u001b[39m\u001b[39m.\u001b[39mformat(\n\u001b[1;32m    712\u001b[0m                 normalized_config_path, \u001b[39mstr\u001b[39m(e)))\n\u001b[1;32m    714\u001b[0m \u001b[39mif\u001b[39;00m file_name \u001b[39mis\u001b[39;00m \u001b[39mNone\u001b[39;00m:\n\u001b[1;32m    715\u001b[0m     \u001b[39m# For backcompat, we don't want both project.json or config.json to\u001b[39;00m\n\u001b[1;32m    716\u001b[0m     \u001b[39m# be present at the same time.\u001b[39;00m\n\u001b[1;32m    717\u001b[0m     file_name \u001b[39m=\u001b[39m get_config_file_name(normalized_config_path)\n",
      "\u001b[0;31mUserErrorException\u001b[0m: UserErrorException:\n\tMessage: Could not write the config file to: /mnt/batch/tasks/shared/LS_root/mounts/clusters/pauljulitz01/code/file-path/.azureml\n[Errno 2] No such file or directory: '/mnt/batch/tasks/shared/LS_root/mounts/clusters/pauljulitz01/code/file-path/.azureml'\n\tInnerException None\n\tErrorResponse \n{\n    \"error\": {\n        \"code\": \"UserError\",\n        \"message\": \"Could not write the config file to: /mnt/batch/tasks/shared/LS_root/mounts/clusters/pauljulitz01/code/file-path/.azureml\\n[Errno 2] No such file or directory: '/mnt/batch/tasks/shared/LS_root/mounts/clusters/pauljulitz01/code/file-path/.azureml'\"\n    }\n}"
     ]
    }
   ],
   "source": [
    "ws.write_config(path=\"./file-path\", file_name=\"ws_config.json\")"
   ]
  }
 ],
 "metadata": {
  "kernelspec": {
   "display_name": "Python 3 (ipykernel)",
   "language": "python",
   "name": "python3"
  },
  "language_info": {
   "name": "python",
   "version": "3.8.5"
  }
 },
 "nbformat": 4,
 "nbformat_minor": 2
}
